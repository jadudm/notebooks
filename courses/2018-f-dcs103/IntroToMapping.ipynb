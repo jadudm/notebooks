{
 "cells": [
  {
   "cell_type": "markdown",
   "metadata": {},
   "source": [
    "<a rel=\"license\" href=\"http://creativecommons.org/licenses/by-sa/4.0/\"><img alt=\"Creative Commons License\" style=\"border-width:0\" src=\"https://i.creativecommons.org/l/by-sa/4.0/88x31.png\" /></a><br />This work is licensed under a <a rel=\"license\" href=\"http://creativecommons.org/licenses/by-sa/4.0/\">Creative Commons Attribution-ShareAlike 4.0 International License</a>."
   ]
  },
  {
   "cell_type": "markdown",
   "metadata": {},
   "source": [
    "*To use this notebook, please [first follow the instructions online here]().*"
   ]
  },
  {
   "cell_type": "code",
   "execution_count": 2,
   "metadata": {},
   "outputs": [
    {
     "ename": "ModuleNotFoundError",
     "evalue": "No module named 'import_ipynb'",
     "output_type": "error",
     "traceback": [
      "\u001b[0;31m---------------------------------------------------------------------------\u001b[0m",
      "\u001b[0;31mModuleNotFoundError\u001b[0m                       Traceback (most recent call last)",
      "\u001b[0;32m<ipython-input-2-fd857395f2ba>\u001b[0m in \u001b[0;36m<module>\u001b[0;34m()\u001b[0m\n\u001b[0;32m----> 1\u001b[0;31m \u001b[0;32mimport\u001b[0m \u001b[0mimport_ipynb\u001b[0m\u001b[0;34m\u001b[0m\u001b[0m\n\u001b[0m\u001b[1;32m      2\u001b[0m \u001b[0;32mfrom\u001b[0m \u001b[0mPPPP100\u001b[0m \u001b[0;32mimport\u001b[0m \u001b[0;34m*\u001b[0m\u001b[0;34m\u001b[0m\u001b[0m\n",
      "\u001b[0;31mModuleNotFoundError\u001b[0m: No module named 'import_ipynb'"
     ]
    }
   ],
   "source": [
    "import import_ipynb\n",
    "from PPPP100 import *"
   ]
  },
  {
   "cell_type": "markdown",
   "metadata": {},
   "source": [
    "## Using the PPPP library for EasyMapping\n",
    "\n",
    "\"PPPP\" is a library of code I've written to help you in your exploration of mapping data. It wraps up GeoPy, Plotly, and MapBox into one easy-to-use tool for creating maps with labeled points on them. \n",
    "\n",
    "This notebook introduces you to the library. We have some concepts to learn in Python before we're really ready to claim mastery with the library. But, you know enough to do a few things."
   ]
  },
  {
   "cell_type": "markdown",
   "metadata": {},
   "source": [
    "## Creating the EasyMap object\n",
    "\n",
    "First, you need to create a *map object*. Objects are... think of them as containers. They hold some data, and they hold some functions that can do things to that data. \n",
    "\n",
    "In the cell below, you need to give the EasyMap() a map name (for example, \"Lewiston 2013\", or really, whatever you like), and you need to give it your username. For me, that would be *mjadud*. This creates a *map object* that you can then interact with. I've stored it in a variable called *the_map*. "
   ]
  },
  {
   "cell_type": "code",
   "execution_count": 4,
   "metadata": {},
   "outputs": [],
   "source": [
    "# The function EasyMap takes two parameters. The first is the\n",
    "# name of your map, and the second is your username.\n",
    "# It returns a *map object*.\n",
    "the_map = EasyMap(\"Lewiston\", \"george\")\n"
   ]
  },
  {
   "cell_type": "markdown",
   "metadata": {},
   "source": [
    "## Setting the mapping token\n",
    "\n",
    "Next, you need to tell the EasyMap object what our secret token is. This is used to log into a map maping service called MapBox. I've included that token here.\n",
    "\n",
    "(For future readers: this is a MapBox API token. If the token below has been canceled, you can create a MapBox account and [get your own API token](https://www.mapbox.com/help/how-to-use-mapbox-securely/#access-tokens).)"
   ]
  },
  {
   "cell_type": "code",
   "execution_count": 5,
   "metadata": {},
   "outputs": [],
   "source": [
    "the_map.set_token(\"pk.eyJ1IjoibWphZHVkIiwiYSI6ImNqbXl4eXl3cjBhcnAzcW55NjVkOTJpbmUifQ.jqwIx2Brdq76S0Ht3CsfmQ\")"
   ]
  },
  {
   "cell_type": "markdown",
   "metadata": {},
   "source": [
    "## Adding a point via latitude and longitude\n",
    "\n",
    "It is possible to add points to our map using latitude and longitude. \n",
    "\n",
    "For example, the middle of the puddle (Lake Andrews) is at latitude 44.107958 and longitude -70.203078. If I wanted to add a point to my map that was in the middle of the puddle, I would tell *the_map* that I wanted to *add_point()*, and pass it three parameters: the name of the point, the latitude, and the longitude."
   ]
  },
  {
   "cell_type": "code",
   "execution_count": 6,
   "metadata": {},
   "outputs": [
    {
     "data": {
      "text/plain": [
       "geo(name='Pettengill', lat=44.106487, lon=-70.203212)"
      ]
     },
     "execution_count": 6,
     "metadata": {},
     "output_type": "execute_result"
    }
   ],
   "source": [
    "the_map.add_point(\"The Puddle\", 44.107958, -70.203078)\n",
    "the_map.add_point(\"Pettengill\", 44.106487, -70.203212)"
   ]
  },
  {
   "cell_type": "markdown",
   "metadata": {},
   "source": [
    "You should add a cell after the one above, and add a few more points in Lewiston. Go to [Google Maps](https://maps.google.com/), and find some places of interest. [Then, use these instructions](https://support.google.com/maps/answer/18539) from Google to find out the latitude and longitude of those locations.\n",
    "\n",
    "If you then want to see the map plotted, you can tell *the_map* to plot itself. "
   ]
  },
  {
   "cell_type": "code",
   "execution_count": 7,
   "metadata": {},
   "outputs": [
    {
     "data": {
      "text/html": [
       "<iframe id=\"igraph\" scrolling=\"no\" style=\"border:none;\" seamless=\"seamless\" src=\"https://plot.ly/~mjadud/46.embed\" height=\"525px\" width=\"100%\"></iframe>"
      ],
      "text/plain": [
       "<plotly.tools.PlotlyDisplay object>"
      ]
     },
     "execution_count": 7,
     "metadata": {},
     "output_type": "execute_result"
    }
   ],
   "source": [
    "the_map.iplot()"
   ]
  },
  {
   "cell_type": "markdown",
   "metadata": {},
   "source": [
    "## Adding a point via address\n",
    "\n",
    "Adding points via geolocation is tough. It takes a lot of time to dig around and find the location of things. Fortunately, we have access to [GeoPy](https://geopy.readthedocs.io/), which is a marvelous library of code that turns addresses into latitude and longitude. \n",
    "\n",
    "You can ask our map to do this for you. For example, I can say\n",
    "\n",
    "```the_map.add_address(\"132 Nichols Street Lewiston ME\")```\n",
    "\n",
    "and that address will be added to the map. If GeoPy can't find the address, an error is printed, and nothing is added to the map. If it works, a geocode comes back. I can also get lazy. I can just type\n",
    "\n",
    "```the_map.add_address(\"132 Nichols 04240\")```\n",
    "\n",
    "and GeoPy will figure out that I want to find that street in the area code 04240 (which is Lewiston).\n",
    "\n",
    "Add a few addresses to your map. You should have a few addresses from Lewiston already from your dataset..."
   ]
  },
  {
   "cell_type": "code",
   "execution_count": null,
   "metadata": {},
   "outputs": [],
   "source": [
    "the_map.add_address(\"132 Nichols 04240\")\n",
    "the_map.add_address(\"77 Nichols 04240\")\n",
    "the_map.add_address(\"55 Campus Ave 04240\")"
   ]
  },
  {
   "cell_type": "code",
   "execution_count": null,
   "metadata": {},
   "outputs": [],
   "source": [
    "# If you want to see your map after adding points, you can ask the map to plot itself.\n",
    "# the_map.iplot()"
   ]
  },
  {
   "cell_type": "markdown",
   "metadata": {},
   "source": [
    "## Adding *categories* of points\n",
    "\n",
    "It might be that your data comes in different categories. For example, you might have some points that represent... oh, say, students who attend one kind of school vs. another. Or, perhaps you are studying immigrants from the early 1900s, and some of those immigrants are French, or Irish, or ...\n",
    "\n",
    "If this is the case, you can create a *category* for your data points, and add your data to that specific category. This is demonstrated below. I've created a category called \"Fr,\" because that is one of the codes from our dataset. I've given it the color dark green, and then I add two points by address using that category. **Note the syntax.** It is new to you, but I think you can figure out what is going on. \n",
    "\n",
    "You can use the [HTML Color Codes](https://htmlcolorcodes.com/) chooser to find HEX values for your colors. "
   ]
  },
  {
   "cell_type": "code",
   "execution_count": null,
   "metadata": {},
   "outputs": [],
   "source": [
    "# First, I tell the map that I'm creating a new category.\n",
    "# The parameters are the size of the dot, the color, and the opacity (or, transparency)\n",
    "# of the point that will represent this category.\n",
    "#\n",
    "# \n",
    "the_map.set_category_style(\"Fr\", 8, \"#336633\", 0.8)\n",
    "the_map.add_address(\"Cedar 29 04240\", cat = \"Fr\")\n",
    "the_map.add_address(\"Blake 254 04240\", cat = \"Fr\")"
   ]
  },
  {
   "cell_type": "code",
   "execution_count": null,
   "metadata": {},
   "outputs": [],
   "source": [
    "# If you want to see your map after adding points, you can ask the map to plot itself.\n",
    "the_map.iplot()"
   ]
  },
  {
   "cell_type": "markdown",
   "metadata": {},
   "source": [
    "As you can see, we now have the first points we added in garnet, and the last two points added were added in a dark green. You should experiment with creating some new categories, experiment with colors and point sizes, and get comfortable with using the map."
   ]
  },
  {
   "cell_type": "markdown",
   "metadata": {},
   "source": [
    "# That's It\n",
    "\n",
    "That is everything the mapping library can do for now. Our next steps are to learn about *tuples*, *namedtuples*, *lists*, *for loops*, *data tables*, and eventually *objects*, although you are now using the last of these already. Lists are definitely next.\n",
    "\n",
    "There's a few other things the map can do, but perhaps the most useful is that you can ask the map for a URL that links to a version online, outside of the notebook. This is useful if you want a larger version for downloading and including in reports and the like."
   ]
  },
  {
   "cell_type": "code",
   "execution_count": null,
   "metadata": {},
   "outputs": [],
   "source": [
    "the_map.get_url()"
   ]
  },
  {
   "cell_type": "code",
   "execution_count": null,
   "metadata": {},
   "outputs": [],
   "source": []
  }
 ],
 "metadata": {
  "kernelspec": {
   "display_name": "Python 3",
   "language": "python",
   "name": "python3"
  },
  "language_info": {
   "codemirror_mode": {
    "name": "ipython",
    "version": 3
   },
   "file_extension": ".py",
   "mimetype": "text/x-python",
   "name": "python",
   "nbconvert_exporter": "python",
   "pygments_lexer": "ipython3",
   "version": "3.6.3"
  }
 },
 "nbformat": 4,
 "nbformat_minor": 2
}
