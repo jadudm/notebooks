{
 "cells": [
  {
   "cell_type": "markdown",
   "metadata": {},
   "source": [
    "# Shoeboxes in the Room\n",
    "\n",
    "This is an example of a Fermi Problem notebook. You're encouraged to also use the text cell feature (go up to the menu, select \"Cell,\" then \"Cell Type,\" and then \"Markdown\") to document your work.\n",
    "\n",
    "Or, you might use comments. I've used both as an example of how to document a notebook. I think learning to use the text cells is probably your best bet in the long run: it's clearer, and easier to work with."
   ]
  },
  {
   "cell_type": "code",
   "execution_count": 1,
   "metadata": {},
   "outputs": [],
   "source": [
    "# The width of the shoebox\n",
    "width = 20"
   ]
  },
  {
   "cell_type": "code",
   "execution_count": 2,
   "metadata": {},
   "outputs": [],
   "source": [
    "# The length of the shoebox, in centimeters \n",
    "length = 40"
   ]
  },
  {
   "cell_type": "code",
   "execution_count": 3,
   "metadata": {},
   "outputs": [],
   "source": [
    "area_of_shoebox = width * length"
   ]
  },
  {
   "cell_type": "code",
   "execution_count": 4,
   "metadata": {},
   "outputs": [
    {
     "data": {
      "text/plain": [
       "800"
      ]
     },
     "execution_count": 4,
     "metadata": {},
     "output_type": "execute_result"
    }
   ],
   "source": [
    "# This is now in units of centimeters squared, or cm^2\n",
    "area_of_shoebox "
   ]
  },
  {
   "cell_type": "markdown",
   "metadata": {},
   "source": [
    "## The Room\n",
    "\n",
    "I paced off the room *really* quickly. It was kinda ugly. We decided it was roughly 7 meters by 11 meters. The room is most definitely **not** a rectangle. However, we're estimating, and a rectangle is \"close\" to the shape of the room. (Our answer will be wrong... but, it will be *close enough* for the purposes of estimating how many shoeboxes it would take to cover the floor.)\n",
    "\n",
    "Both the length and the width were multipled by 100, so that we could convert the room length and width from meters into centimeters. It is *critical* when doing calculations that all the units are the same/correct!"
   ]
  },
  {
   "cell_type": "code",
   "execution_count": 5,
   "metadata": {},
   "outputs": [],
   "source": [
    "width_of_room = 11 * 100"
   ]
  },
  {
   "cell_type": "code",
   "execution_count": 6,
   "metadata": {},
   "outputs": [],
   "source": [
    "length_of_room = 7 * 100 "
   ]
  },
  {
   "cell_type": "code",
   "execution_count": 7,
   "metadata": {},
   "outputs": [],
   "source": [
    "area_of_room = width_of_room * length_of_room"
   ]
  },
  {
   "cell_type": "code",
   "execution_count": 8,
   "metadata": {},
   "outputs": [
    {
     "data": {
      "text/plain": [
       "770000"
      ]
     },
     "execution_count": 8,
     "metadata": {},
     "output_type": "execute_result"
    }
   ],
   "source": [
    "area_of_room "
   ]
  },
  {
   "cell_type": "markdown",
   "metadata": {},
   "source": [
    "## The Calculation\n",
    "\n",
    "Now, we can take the area of the room (in cm^2) and the area of the shoebox (in cm^2), and divide."
   ]
  },
  {
   "cell_type": "code",
   "execution_count": 9,
   "metadata": {},
   "outputs": [],
   "source": [
    "number_of_boxes = area_of_room / area_of_shoebox"
   ]
  },
  {
   "cell_type": "code",
   "execution_count": 10,
   "metadata": {},
   "outputs": [
    {
     "data": {
      "text/plain": [
       "962.5"
      ]
     },
     "execution_count": 10,
     "metadata": {},
     "output_type": "execute_result"
    }
   ],
   "source": [
    "number_of_boxes"
   ]
  },
  {
   "cell_type": "markdown",
   "metadata": {},
   "source": [
    "## Bonus!\n",
    "\n",
    "If we want to know how many shoeboxes *fill* the room, we could add one more piece!"
   ]
  },
  {
   "cell_type": "code",
   "execution_count": 11,
   "metadata": {},
   "outputs": [],
   "source": [
    "height_of_shoebox = 10"
   ]
  },
  {
   "cell_type": "code",
   "execution_count": 12,
   "metadata": {},
   "outputs": [],
   "source": [
    "# We'll assume the room is roughly an 8' ceiling, which is roughly 2.5m. Kinda.\n",
    "height_of_room = 2.5 * 100"
   ]
  },
  {
   "cell_type": "code",
   "execution_count": 13,
   "metadata": {},
   "outputs": [],
   "source": [
    "# Now, the volume of the room\n",
    "# We can multiply the area times the height, which is the \n",
    "# same as multiplying length * width * height\n",
    "volume_of_room = height_of_room * area_of_room"
   ]
  },
  {
   "cell_type": "code",
   "execution_count": 14,
   "metadata": {},
   "outputs": [],
   "source": [
    "# Then, the volume of the box\n",
    "volume_of_box = height_of_shoebox * area_of_shoebox"
   ]
  },
  {
   "cell_type": "code",
   "execution_count": 15,
   "metadata": {},
   "outputs": [],
   "source": [
    "# Finally...\n",
    "boxes_to_fill_the_room = volume_of_room / volume_of_box"
   ]
  },
  {
   "cell_type": "code",
   "execution_count": 16,
   "metadata": {},
   "outputs": [
    {
     "data": {
      "text/plain": [
       "24062.5"
      ]
     },
     "execution_count": 16,
     "metadata": {},
     "output_type": "execute_result"
    }
   ],
   "source": [
    "boxes_to_fill_the_room"
   ]
  },
  {
   "cell_type": "code",
   "execution_count": 17,
   "metadata": {},
   "outputs": [],
   "source": [
    "# 24 thousand pairs of shoes! Who knew how many shoes could fit in a room in Pettengill!"
   ]
  }
 ],
 "metadata": {
  "kernelspec": {
   "display_name": "Python 3",
   "language": "python",
   "name": "python3"
  },
  "language_info": {
   "codemirror_mode": {
    "name": "ipython",
    "version": 3
   },
   "file_extension": ".py",
   "mimetype": "text/x-python",
   "name": "python",
   "nbconvert_exporter": "python",
   "pygments_lexer": "ipython3",
   "version": "3.6.6"
  }
 },
 "nbformat": 4,
 "nbformat_minor": 2
}
